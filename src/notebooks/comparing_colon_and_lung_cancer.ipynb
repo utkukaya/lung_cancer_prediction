{
 "cells": [
  {
   "cell_type": "code",
   "execution_count": 2,
   "metadata": {},
   "outputs": [
    {
     "name": "stderr",
     "output_type": "stream",
     "text": [
      "/Library/Frameworks/Python.framework/Versions/3.11/lib/python3.11/site-packages/shap/utils/_clustering.py:34: NumbaDeprecationWarning: The 'nopython' keyword argument was not supplied to the 'numba.jit' decorator. The implicit default value for this argument is currently False, but it will be changed to True in Numba 0.59.0. See https://numba.readthedocs.io/en/stable/reference/deprecation.html#deprecation-of-object-mode-fall-back-behaviour-when-using-jit for details.\n",
      "  @jit\n",
      "/Library/Frameworks/Python.framework/Versions/3.11/lib/python3.11/site-packages/shap/utils/_clustering.py:53: NumbaDeprecationWarning: The 'nopython' keyword argument was not supplied to the 'numba.jit' decorator. The implicit default value for this argument is currently False, but it will be changed to True in Numba 0.59.0. See https://numba.readthedocs.io/en/stable/reference/deprecation.html#deprecation-of-object-mode-fall-back-behaviour-when-using-jit for details.\n",
      "  @jit\n",
      "/Library/Frameworks/Python.framework/Versions/3.11/lib/python3.11/site-packages/shap/utils/_clustering.py:62: NumbaDeprecationWarning: The 'nopython' keyword argument was not supplied to the 'numba.jit' decorator. The implicit default value for this argument is currently False, but it will be changed to True in Numba 0.59.0. See https://numba.readthedocs.io/en/stable/reference/deprecation.html#deprecation-of-object-mode-fall-back-behaviour-when-using-jit for details.\n",
      "  @jit\n",
      "/Library/Frameworks/Python.framework/Versions/3.11/lib/python3.11/site-packages/shap/utils/_clustering.py:68: NumbaDeprecationWarning: The 'nopython' keyword argument was not supplied to the 'numba.jit' decorator. The implicit default value for this argument is currently False, but it will be changed to True in Numba 0.59.0. See https://numba.readthedocs.io/en/stable/reference/deprecation.html#deprecation-of-object-mode-fall-back-behaviour-when-using-jit for details.\n",
      "  @jit\n",
      "/Library/Frameworks/Python.framework/Versions/3.11/lib/python3.11/site-packages/shap/utils/_clustering.py:76: NumbaDeprecationWarning: The 'nopython' keyword argument was not supplied to the 'numba.jit' decorator. The implicit default value for this argument is currently False, but it will be changed to True in Numba 0.59.0. See https://numba.readthedocs.io/en/stable/reference/deprecation.html#deprecation-of-object-mode-fall-back-behaviour-when-using-jit for details.\n",
      "  @jit\n",
      "/Library/Frameworks/Python.framework/Versions/3.11/lib/python3.11/site-packages/shap/links.py:4: NumbaDeprecationWarning: The 'nopython' keyword argument was not supplied to the 'numba.jit' decorator. The implicit default value for this argument is currently False, but it will be changed to True in Numba 0.59.0. See https://numba.readthedocs.io/en/stable/reference/deprecation.html#deprecation-of-object-mode-fall-back-behaviour-when-using-jit for details.\n",
      "  @numba.jit\n",
      "/Library/Frameworks/Python.framework/Versions/3.11/lib/python3.11/site-packages/shap/links.py:9: NumbaDeprecationWarning: The 'nopython' keyword argument was not supplied to the 'numba.jit' decorator. The implicit default value for this argument is currently False, but it will be changed to True in Numba 0.59.0. See https://numba.readthedocs.io/en/stable/reference/deprecation.html#deprecation-of-object-mode-fall-back-behaviour-when-using-jit for details.\n",
      "  @numba.jit\n",
      "/Library/Frameworks/Python.framework/Versions/3.11/lib/python3.11/site-packages/shap/links.py:14: NumbaDeprecationWarning: The 'nopython' keyword argument was not supplied to the 'numba.jit' decorator. The implicit default value for this argument is currently False, but it will be changed to True in Numba 0.59.0. See https://numba.readthedocs.io/en/stable/reference/deprecation.html#deprecation-of-object-mode-fall-back-behaviour-when-using-jit for details.\n",
      "  @numba.jit\n",
      "/Library/Frameworks/Python.framework/Versions/3.11/lib/python3.11/site-packages/shap/links.py:19: NumbaDeprecationWarning: The 'nopython' keyword argument was not supplied to the 'numba.jit' decorator. The implicit default value for this argument is currently False, but it will be changed to True in Numba 0.59.0. See https://numba.readthedocs.io/en/stable/reference/deprecation.html#deprecation-of-object-mode-fall-back-behaviour-when-using-jit for details.\n",
      "  @numba.jit\n",
      "/Library/Frameworks/Python.framework/Versions/3.11/lib/python3.11/site-packages/shap/utils/_masked_model.py:362: NumbaDeprecationWarning: The 'nopython' keyword argument was not supplied to the 'numba.jit' decorator. The implicit default value for this argument is currently False, but it will be changed to True in Numba 0.59.0. See https://numba.readthedocs.io/en/stable/reference/deprecation.html#deprecation-of-object-mode-fall-back-behaviour-when-using-jit for details.\n",
      "  @jit # we can't use this when using a custom link function...\n",
      "/Library/Frameworks/Python.framework/Versions/3.11/lib/python3.11/site-packages/shap/utils/_masked_model.py:384: NumbaDeprecationWarning: The 'nopython' keyword argument was not supplied to the 'numba.jit' decorator. The implicit default value for this argument is currently False, but it will be changed to True in Numba 0.59.0. See https://numba.readthedocs.io/en/stable/reference/deprecation.html#deprecation-of-object-mode-fall-back-behaviour-when-using-jit for details.\n",
      "  @jit\n",
      "/Library/Frameworks/Python.framework/Versions/3.11/lib/python3.11/site-packages/shap/utils/_masked_model.py:427: NumbaDeprecationWarning: The 'nopython' keyword argument was not supplied to the 'numba.jit' decorator. The implicit default value for this argument is currently False, but it will be changed to True in Numba 0.59.0. See https://numba.readthedocs.io/en/stable/reference/deprecation.html#deprecation-of-object-mode-fall-back-behaviour-when-using-jit for details.\n",
      "  @jit\n",
      "/Library/Frameworks/Python.framework/Versions/3.11/lib/python3.11/site-packages/shap/utils/_masked_model.py:438: NumbaDeprecationWarning: The 'nopython' keyword argument was not supplied to the 'numba.jit' decorator. The implicit default value for this argument is currently False, but it will be changed to True in Numba 0.59.0. See https://numba.readthedocs.io/en/stable/reference/deprecation.html#deprecation-of-object-mode-fall-back-behaviour-when-using-jit for details.\n",
      "  @jit\n",
      "/Library/Frameworks/Python.framework/Versions/3.11/lib/python3.11/site-packages/shap/maskers/_tabular.py:185: NumbaDeprecationWarning: The 'nopython' keyword argument was not supplied to the 'numba.jit' decorator. The implicit default value for this argument is currently False, but it will be changed to True in Numba 0.59.0. See https://numba.readthedocs.io/en/stable/reference/deprecation.html#deprecation-of-object-mode-fall-back-behaviour-when-using-jit for details.\n",
      "  @jit\n",
      "/Library/Frameworks/Python.framework/Versions/3.11/lib/python3.11/site-packages/shap/maskers/_tabular.py:196: NumbaDeprecationWarning: The 'nopython' keyword argument was not supplied to the 'numba.jit' decorator. The implicit default value for this argument is currently False, but it will be changed to True in Numba 0.59.0. See https://numba.readthedocs.io/en/stable/reference/deprecation.html#deprecation-of-object-mode-fall-back-behaviour-when-using-jit for details.\n",
      "  @jit\n",
      "/Library/Frameworks/Python.framework/Versions/3.11/lib/python3.11/site-packages/shap/maskers/_image.py:174: NumbaDeprecationWarning: The 'nopython' keyword argument was not supplied to the 'numba.jit' decorator. The implicit default value for this argument is currently False, but it will be changed to True in Numba 0.59.0. See https://numba.readthedocs.io/en/stable/reference/deprecation.html#deprecation-of-object-mode-fall-back-behaviour-when-using-jit for details.\n",
      "  @jit\n",
      "/Library/Frameworks/Python.framework/Versions/3.11/lib/python3.11/site-packages/shap/explainers/_partition.py:675: NumbaDeprecationWarning: The 'nopython' keyword argument was not supplied to the 'numba.jit' decorator. The implicit default value for this argument is currently False, but it will be changed to True in Numba 0.59.0. See https://numba.readthedocs.io/en/stable/reference/deprecation.html#deprecation-of-object-mode-fall-back-behaviour-when-using-jit for details.\n",
      "  @jit\n",
      "The 'nopython' keyword argument was not supplied to the 'numba.jit' decorator. The implicit default value for this argument is currently False, but it will be changed to True in Numba 0.59.0. See https://numba.readthedocs.io/en/stable/reference/deprecation.html#deprecation-of-object-mode-fall-back-behaviour-when-using-jit for details.\n",
      "The 'nopython' keyword argument was not supplied to the 'numba.jit' decorator. The implicit default value for this argument is currently False, but it will be changed to True in Numba 0.59.0. See https://numba.readthedocs.io/en/stable/reference/deprecation.html#deprecation-of-object-mode-fall-back-behaviour-when-using-jit for details.\n"
     ]
    }
   ],
   "source": [
    "import sys\n",
    "main_path = \"../..\"\n",
    "sys.path.append(main_path)\n",
    "\n",
    "import numpy as np\n",
    "import pandas as pd\n",
    "from impyute.imputation.cs import fast_knn\n",
    "import os\n",
    "import yaml\n",
    "import copy\n",
    "from sklearn.cluster import KMeans\n",
    "import matplotlib.pyplot as plt\n",
    "from sklearn.metrics import silhouette_samples, silhouette_score\n",
    "from src.scripts.model_and_evaluation import ModelAndEvaluation\n",
    "from src.scripts.extra_features_model_and_evaluation import ExtraFeaturesModelAndEvaluation\n",
    "import seaborn as sns\n",
    "from src.scripts.common_figures import Figures\n",
    "import itertools\n"
   ]
  },
  {
   "cell_type": "code",
   "execution_count": 3,
   "metadata": {},
   "outputs": [],
   "source": [
    "figures = Figures()\n",
    "sns.set_context('poster', font_scale=0.8)"
   ]
  },
  {
   "cell_type": "code",
   "execution_count": 15,
   "metadata": {},
   "outputs": [],
   "source": [
    "model_and_evaluation = ModelAndEvaluation()\n",
    "extra_featues_modal_and_evaluation = ExtraFeaturesModelAndEvaluation()"
   ]
  },
  {
   "cell_type": "code",
   "execution_count": 5,
   "metadata": {},
   "outputs": [
    {
     "name": "stdout",
     "output_type": "stream",
     "text": [
      "    p16540 p16580 MDM2 GALECTİN-3 TIM1 CD27 CD40 PD1/pdcd1PDL1/cd274 PDL1   \n",
      "3       CC     CC   TT         AC   CC   TT   CC                  CT   AA  \\\n",
      "4       CC     CC   TG         CC   GC   AA   CC                  CC   AC   \n",
      "5       CG     CC   TG         AA   CC   AA   CC                  CT   AC   \n",
      "6      NaN    NaN  NaN         AC   GC   AA   CT                  CT   AC   \n",
      "7       CC     CC   TG        NaN   CC   AT   CT                  CT   AC   \n",
      "..     ...    ...  ...        ...  ...  ...  ...                 ...  ...   \n",
      "112     GC     CC  NaN        NaN   GG  NaN  NaN                 NaN  NaN   \n",
      "113     CC     CC  NaN        NaN   GG  NaN  NaN                 NaN  NaN   \n",
      "114     CC     CC  NaN        NaN   GC  NaN  NaN                 NaN  NaN   \n",
      "115     GC     CT  NaN        NaN   GG  NaN  NaN                 NaN  NaN   \n",
      "116     GC     CT  NaN        NaN   GC  NaN  NaN                 NaN  NaN   \n",
      "\n",
      "    CD28 mdm2 GAL3 cd27snp pd1duz pdl1poly  \n",
      "3     TT  NaN  NaN     NaN    NaN      NaN  \n",
      "4     TT  NaN  NaN     NaN    NaN      NaN  \n",
      "5     TT  NaN  NaN     NaN    NaN      NaN  \n",
      "6     CT  NaN  NaN     NaN    NaN      NaN  \n",
      "7     TT  NaN  NaN     NaN    NaN      NaN  \n",
      "..   ...  ...  ...     ...    ...      ...  \n",
      "112   TT   TT   CC     NaN    NaN       AA  \n",
      "113  NaN   TT   CC      AT     CC       AC  \n",
      "114   CT   GT   CC     NaN     CT       AC  \n",
      "115  NaN   GG   CC      AT     CC      NaN  \n",
      "116   TT   TT   CC     NaN    NaN      NaN  \n",
      "\n",
      "[254 rows x 15 columns]\n"
     ]
    }
   ],
   "source": [
    "df_path = f\"{main_path}/data/processed/dataframes\"\n",
    "xlsx_lung = pd.ExcelFile('../../data/raw/lung_cancer.xlsx')\n",
    "\n",
    "# Sayfa adlarını yazdırın\n",
    "df1_lung = pd.read_excel(xlsx_lung, sheet_name='akciğer')\n",
    "df2_lung = pd.read_excel(xlsx_lung, sheet_name='kontrol')\n",
    "\n",
    "df1_lung = df1_lung.iloc[:][3:len(df1_lung)]\n",
    "df2_lung = df2_lung.iloc[:][3:len(df2_lung)]\n",
    "\n",
    "\n",
    "xlsx_lung = pd.ExcelFile('../../data/raw/colon_cancer.xlsx')\n",
    "\n",
    "# Sayfa adlarını yazdırın\n",
    "df1_colon = pd.read_excel(xlsx_lung, sheet_name='Sayfa1')\n",
    "# df2_lung = pd.read_excel(xlsx_lung, sheet_name='kontrol')\n",
    "\n",
    "df1_colon = df1_colon.iloc[:][3:len(df1_colon)]\n",
    "\n",
    "# data = data.iloc[:][3:len(data)]\n",
    "lung_cancer_columns = ['IDO-1', 'p16540', 'p16580', 'FOXP3', 'ICAM-1', 'GALECTİN-3', 'CD27', 'PD1/pdcd1PDL1/cd274', 'PDL1', 'CD40', 'TIM1','CTLA-4', 'MDM2']\n",
    "colon_cancer_columns = ['p16540', 'p16580', 'mdm2', 'GAL3', 'TIM1', 'trail', 'pd1duz', 'pdl1poly', 'CD28', 'cd27snp','CD40']\n",
    "common_columns_colon = ['p16540', 'p16580', 'mdm2', 'GAL3', 'TIM1', 'cd27snp', 'CD40','pd1duz', 'pdl1poly', 'CD28']\n",
    "common_columns_lung = ['p16540', 'p16580', 'MDM2', 'GALECTİN-3', 'TIM1', 'CD27', 'CD40','PD1/pdcd1PDL1/cd274', 'PDL1', 'CD28']\n",
    "\n",
    "target_lung = df1_lung[\"Unnamed: 9\"]\n",
    "target_lung_control = df2_lung[\"Unnamed: 5\"]\n",
    "target_lung = np.where(target_lung == 'kontrol', 0, 1)\n",
    "target_lung_control = np.where(target_lung_control == 'kontrol', 0, 1)\n",
    "target_lung = np.concatenate([target_lung, target_lung_control])\n",
    "\n",
    "target_colon = np.ravel(df1_colon.iloc[:,0])\n",
    "target_colon = np.where(target_colon == 'kontrol', 0, 2)\n",
    "# lung_cancer_columns = [\"IDO-1\", \"\"]\n",
    "# print(df1_colon[common_columns_colon])\n",
    "\n",
    "total_target = np.concatenate([target_lung, target_colon])\n",
    "\n",
    "data_lung_cancer = pd.concat([df1_lung[common_columns_lung], df2_lung[common_columns_lung]])\n",
    "data_colon_cancer = df1_colon[common_columns_colon]\n",
    "total_data = pd.concat([data_lung_cancer, data_colon_cancer])\n",
    "\n",
    "print(pd.DataFrame(total_data))\n",
    "\n",
    "\n",
    "\n",
    "\n",
    "\n",
    "pd.DataFrame(total_target, columns=['target']).to_csv(f\"{df_path}/total_targets.csv\", index=False)\n",
    "# targets = np.where(targets == 'kontrol', 0, 1)\n"
   ]
  },
  {
   "cell_type": "markdown",
   "metadata": {},
   "source": [
    "CDT_DI_FI_OHE"
   ]
  },
  {
   "cell_type": "code",
   "execution_count": 6,
   "metadata": {},
   "outputs": [],
   "source": [
    "with open(f'{main_path}/config.yaml', 'r') as f:\n",
    "    config = yaml.safe_load(f)\n",
    "    \n",
    "decimal_forms = config['decimal']"
   ]
  },
  {
   "cell_type": "code",
   "execution_count": 7,
   "metadata": {},
   "outputs": [
    {
     "name": "stdout",
     "output_type": "stream",
     "text": [
      "[[10. 10.  5. ... nan nan nan]\n",
      " [10. 10. nan ... nan nan nan]\n",
      " [nan 10. nan ... nan nan nan]\n",
      " ...\n",
      " [10. 10. nan ... nan  9.  2.]\n",
      " [14.  9. nan ...  1. 10. nan]\n",
      " [14.  9. nan ... nan nan nan]]\n"
     ]
    }
   ],
   "source": [
    "cdt = pd.DataFrame(total_data)\n",
    "cdt.columns = total_data.columns\n",
    "\n",
    "for col in cdt.columns:\n",
    "    cdt[col] = cdt[col].map(decimal_forms)\n",
    "\n",
    "print(cdt.values)"
   ]
  },
  {
   "cell_type": "code",
   "execution_count": 8,
   "metadata": {},
   "outputs": [
    {
     "name": "stdout",
     "output_type": "stream",
     "text": [
      "     p16540  p16580  MDM2  GALECTİN-3  TIM1  CD27  CD40  PD1/pdcd1PDL1/cd274   \n",
      "3      10.0    10.0   5.0         2.0  10.0   5.0  10.0                  9.0  \\\n",
      "4      10.0    10.0   NaN        10.0  14.0   0.0  10.0                 10.0   \n",
      "5       NaN    10.0   NaN         0.0  10.0   0.0  10.0                  9.0   \n",
      "6       NaN     NaN   NaN         2.0  14.0   0.0   9.0                  9.0   \n",
      "7      10.0    10.0   NaN         NaN  10.0   1.0   9.0                  9.0   \n",
      "..      ...     ...   ...         ...   ...   ...   ...                  ...   \n",
      "112    14.0    10.0   NaN         NaN  15.0   NaN   NaN                  NaN   \n",
      "113    10.0    10.0   NaN         NaN  15.0   NaN   NaN                  NaN   \n",
      "114    10.0    10.0   NaN         NaN  14.0   NaN   NaN                  NaN   \n",
      "115    14.0     9.0   NaN         NaN  15.0   NaN   NaN                  NaN   \n",
      "116    14.0     9.0   NaN         NaN  14.0   NaN   NaN                  NaN   \n",
      "\n",
      "     PDL1  CD28  mdm2  GAL3  cd27snp  pd1duz  pdl1poly  \n",
      "3     0.0   5.0   NaN   NaN      NaN     NaN       NaN  \n",
      "4     2.0   5.0   NaN   NaN      NaN     NaN       NaN  \n",
      "5     2.0   5.0   NaN   NaN      NaN     NaN       NaN  \n",
      "6     2.0   9.0   NaN   NaN      NaN     NaN       NaN  \n",
      "7     2.0   5.0   NaN   NaN      NaN     NaN       NaN  \n",
      "..    ...   ...   ...   ...      ...     ...       ...  \n",
      "112   NaN   5.0   5.0  10.0      NaN     NaN       0.0  \n",
      "113   NaN   NaN   5.0  10.0      1.0    10.0       2.0  \n",
      "114   NaN   9.0  13.0  10.0      NaN     9.0       2.0  \n",
      "115   NaN   NaN  15.0  10.0      1.0    10.0       NaN  \n",
      "116   NaN   5.0   5.0  10.0      NaN     NaN       NaN  \n",
      "\n",
      "[254 rows x 15 columns]\n"
     ]
    }
   ],
   "source": [
    "sys.setrecursionlimit(100000) #Increase the recursion limit of the OS\n",
    "\n",
    "print(cdt)\n",
    "\n",
    "cdt_di = fast_knn(cdt.values, k=30)\n",
    "\n",
    "cdt_di_df = pd.DataFrame(cdt_di, columns=cdt.columns)\n",
    "cdt_di_df.to_csv(f\"{df_path}/cdt_di_total.csv\", index=False)"
   ]
  },
  {
   "cell_type": "code",
   "execution_count": 9,
   "metadata": {},
   "outputs": [],
   "source": [
    "cdt_di_fi = np.round(cdt_di).astype('int')\n",
    "cdt_di_fi_df = pd.DataFrame(cdt_di_fi, columns=cdt.columns)\n",
    "cdt_di_fi_df.to_csv(f\"{df_path}/cdt_di_fi_total.csv\", index=False)"
   ]
  },
  {
   "cell_type": "code",
   "execution_count": 10,
   "metadata": {},
   "outputs": [],
   "source": [
    "cdt_di_ohe_df = pd.get_dummies(cdt_di_df, sparse=True, columns=cdt.columns)\n",
    "cdt_di_ohe_df.to_csv(f\"{df_path}/cdt_di_ohe_total.csv\", index=False)"
   ]
  },
  {
   "cell_type": "code",
   "execution_count": 11,
   "metadata": {},
   "outputs": [],
   "source": [
    "cdt_di_fi_ohe_df = pd.get_dummies(cdt_di_fi_df.astype('str'), sparse=True, columns=cdt.columns)\n",
    "\n",
    "cdt_di_fi_ohe_df.to_csv(f\"{df_path}/cdt_di_fi_ohe_total.csv\", index=False)"
   ]
  },
  {
   "cell_type": "code",
   "execution_count": 18,
   "metadata": {},
   "outputs": [
    {
     "name": "stdout",
     "output_type": "stream",
     "text": [
      "{'lr': {'f1': [0.7287625418060201, 0.7716962524654831, 0.8100591715976331, 0.6013986013986015, 0.7989898989898989, 0.7165384615384616, 0.8397202797202796, 0.7517142857142858, 0.7168820512820511, 0.674]}, 'rf': {'f1': [0.7605769230769232, 0.8071005917159764, 0.7731643356643356, 0.7346745562130177, 0.7066833855799373, 0.72, 0.8382657342657341, 0.7123809523809524, 0.6701298701298701, 0.9186666666666667]}, 'svm': {'f1': [0.6237672583826429, 0.8089743589743589, 0.808974358974359, 0.648721967687485, 0.7117742946708464, 0.6854545454545454, 0.8381538461538461, 0.7954285714285715, 0.7429450549450549, 0.84]}}\n"
     ]
    }
   ],
   "source": [
    "cdt_di_fi_ohe_total = pd.read_csv(f\"{df_path}/cdt_di_fi_ohe_total.csv\")\n",
    "total_targets = pd.read_csv(f\"{df_path}/total_targets.csv\").values.ravel()\n",
    "\n",
    "metrics_score_cdt_di_fi_ohe = extra_featues_modal_and_evaluation.regression_model(cdt_di_fi_ohe_total.values, total_targets)\n",
    "print(metrics_score_cdt_di_fi_ohe)\n"
   ]
  },
  {
   "cell_type": "code",
   "execution_count": 20,
   "metadata": {},
   "outputs": [
    {
     "data": {
      "image/png": "[encoded data removed]",
      "text/plain": [
       "<Figure size 800x800 with 1 Axes>"
      ]
     },
     "metadata": {},
     "output_type": "display_data"
    }
   ],
   "source": [
    "class_names = {'cdt_di_fi_ohe':'Approach CDT_DI_FI_OHE'}\n",
    "\n",
    "classifier_names = ['LR', 'RF', 'SVM']\n",
    "\n",
    "scores = { 'cdt_di_fi_ohe':[metrics_score_cdt_di_fi_ohe[i.lower()]['f1'] for i in classifier_names]}\n",
    "\n",
    "save = f\"{main_path}/figures/paper_figures/png/f1scores_cdt_di_fi_ohe_total.png\"\n",
    "paper_figure = f\"{main_path}/figures/paper_figures/svg/da.svg\"\n",
    "figures.draw_bar_plot(classifier_names, scores, class_names, grid_shape=(1, 1), save=save, paper_figure=paper_figure)\n"
   ]
  }
 ],
 "metadata": {
  "kernelspec": {
   "display_name": "Python 3.11.1 64-bit",
   "language": "python",
   "name": "python3"
  },
  "language_info": {
   "codemirror_mode": {
    "name": "ipython",
    "version": 3
   },
   "file_extension": ".py",
   "mimetype": "text/x-python",
   "name": "python",
   "nbconvert_exporter": "python",
   "pygments_lexer": "ipython3",
   "version": "3.11.1"
  },
  "orig_nbformat": 4,
  "vscode": {
   "interpreter": {
    "hash": "aee8b7b246df8f9039afb4144a1f6fd8d2ca17a180786b69acc140d282b71a49"
   }
  }
 },
 "nbformat": 4,
 "nbformat_minor": 2
}
