{
 "cells": [
  {
   "cell_type": "code",
   "execution_count": 1,
   "id": "350876df",
   "metadata": {},
   "outputs": [],
   "source": [
    "import sys\n",
    "main_path = \"../..\"\n",
    "sys.path.append(main_path)\n",
    "\n",
    "import numpy as np\n",
    "import pandas as pd\n",
    "from impyute.imputation.cs import fast_knn\n",
    "import os\n",
    "import yaml\n",
    "import copy"
   ]
  },
  {
   "cell_type": "code",
   "execution_count": 2,
   "id": "d8ec4296",
   "metadata": {},
   "outputs": [
    {
     "name": "stdout",
     "output_type": "stream",
     "text": [
      "[125 7 59 72 147 25 96 9 30 68 26 146 7 100 14 180 54 15 103 5 64 152 117\n",
      " 151 121 0 117 29 180 37 22 35 31 35 16 45 154 2 23 180 99 152 180 117 180\n",
      " 152 41 34 17 119 17 101 16 117 91 102 180 180 137 180 116 81 24 120 32\n",
      " 180 33 146 83 104]\n",
      "   p16580 FOXP3 ICAM-1 GALECTİN-3 CD28 GALECTİN-3.1 CD27 PD1/pdcd1PDL1/cd274   \n",
      "3      CC    CC     AG         AC   TT           CA   TT                  CT  \\\n",
      "4      CC    CC     AG         CC   TT           AA   AA                  CC   \n",
      "5      CC    AA     AG         AA   TT           CC   AA                  CT   \n",
      "6     NaN    AA     AG         AC   CT           CC   AA                  CT   \n",
      "7      CC   NaN     AG        NaN   TT          NaN   AT                  CT   \n",
      "..    ...   ...    ...        ...  ...          ...  ...                 ...   \n",
      "68     CC    CC     GG         CC   CC          NaN   AA                  CT   \n",
      "69     CC    CC     AA         AA   TT           CC   TT                  CC   \n",
      "70     CT    CC     GG         AC   TT          NaN   AT                  CC   \n",
      "71     CC    CA    NaN         CC  NaN           AA   AA                 NaN   \n",
      "72    NaN    CA    NaN         AC   TT           CA   AT                 NaN   \n",
      "\n",
      "   PDL1 CD40 TIM1 CTLA-4 MDM2  \n",
      "3    AA   CC   CC     AA   TT  \n",
      "4    AC   CC   GC     AA   TG  \n",
      "5    AC   CC   CC     AA   TG  \n",
      "6    AC   CT   GC     AA  NaN  \n",
      "7    AC   CT   CC     AG   TG  \n",
      "..  ...  ...  ...    ...  ...  \n",
      "68   AC   CT   CC    NaN   TG  \n",
      "69   AC   CT   GC    NaN   TT  \n",
      "70   AA   CC   CC    NaN   TG  \n",
      "71  NaN   CT   CC    NaN   GG  \n",
      "72   AC   CT   CC     AA  NaN  \n",
      "\n",
      "[140 rows x 13 columns]\n"
     ]
    }
   ],
   "source": [
    "# data = pd.read_csv(f'{main_path}/data/raw/lung_cancer.csv', sep=\"\\t\", encoding = \"ISO-8859-1\")\n",
    "data = pd.read_excel('../../data/raw/lung_cancer.xlsx')\n",
    "# print(data)\n",
    "xlsx = pd.ExcelFile('../../data/raw/lung_cancer.xlsx')\n",
    "\n",
    "# Sayfa adlarını yazdırın\n",
    "df1 = pd.read_excel(xlsx, sheet_name='akciğer')\n",
    "df2 = pd.read_excel(xlsx, sheet_name='kontrol')\n",
    "\n",
    "emptyLiveMonth = 180\n",
    "# print(df2.iloc[:][3:len(df2)])\n",
    "df2 = df2.iloc[:][3:len(df2)]\n",
    "df2 = df2.iloc[:,5:22]\n",
    "data = data.iloc[:][3:len(data)]\n",
    "# data = np.delete(data, np.s_[2:6], axis=1)\n",
    "binary_data = np.where(pd.isna(np.ravel(data.iloc[:,2])), 0, np.ravel(data.iloc[:,2]))\n",
    "data_live_month = np.where(pd.isna(np.ravel(data.iloc[:,5])), emptyLiveMonth, np.ravel(data.iloc[:,5]))\n",
    "print(data_live_month)\n",
    "# data_binary_tree[np.isnan(data_binary_tree)] = 1\n",
    "\n",
    "data = data.drop(['Unnamed: 2', 'Unnamed: 3', 'Unnamed: 4', 'Unnamed: 5'], axis=1)\n",
    "data = data.iloc[:,5:22]\n",
    "\n",
    "# print(data.iloc[:,5:22])\n",
    "# print(np.delete(data, np.s_[2:6], axis=1))\n",
    "# data = pd.DataFrame(data)\n",
    "# data = np.concatenate(data, df2)\n",
    "\n",
    "# data = np.concatenate(data, df2)\n",
    "# print(data.iloc[:,9])\n",
    "\n",
    "targets = np.ravel(data.iloc[:,0])\n",
    "# print(targets)\n",
    "targets = np.where(targets == 'kontrol', 0, 1)\n",
    "# print(targets)\n",
    "\n",
    "data = pd.concat([data, df2])\n",
    "data = pd.DataFrame(data)\n",
    "\n",
    "features = np.array(data.iloc[:,2:17])\n",
    "columns = data.columns[2:17]\n",
    "targets_control = np.ravel(df2.iloc[:,0])\n",
    "binary_data_control = [1 for i in range(len(targets_control))]\n",
    "# data_live_month_control = [emptyLiveMonth for i in range(len(targets_control))]\n",
    "\n",
    "binary_data = np.concatenate([binary_data, binary_data_control])\n",
    "# data_live_month = np.concatenate([data_live_month, data_live_month_control])\n",
    "targets_control = np.where(targets_control == 'kontrol', 0, 1)\n",
    "# print(targets)\n",
    "\n",
    "features_control = np.array(df2.iloc[:,2:17])\n",
    "columns_control = df2.columns[2:17]\n",
    "targets = np.concatenate([targets, targets_control])\n",
    "# features = np.concatenate([features, features_control])\n",
    "# columns = np.concatenate([columns, columns])\n",
    "\n",
    "with open(f'{main_path}/config.yaml', 'r') as f:\n",
    "    config = yaml.safe_load(f)\n",
    "    \n",
    "decimal_forms = config['decimal']\n",
    "# print(features)\n",
    "\n",
    "df_path = f\"{main_path}/data/processed/dataframes\"\n",
    "os.makedirs(df_path, exist_ok=True)\n",
    "data = data.iloc[:,2:17]\n",
    "print(data.iloc[:,2:17])"
   ]
  },
  {
   "cell_type": "code",
   "execution_count": 3,
   "id": "a959209c",
   "metadata": {},
   "outputs": [],
   "source": [
    "pd.DataFrame(binary_data, columns=['is_live']).to_csv(f\"{df_path}/binary_data_is_live.csv\", index=False)"
   ]
  },
  {
   "cell_type": "code",
   "execution_count": 4,
   "id": "5e32d693",
   "metadata": {},
   "outputs": [
    {
     "name": "stdout",
     "output_type": "stream",
     "text": [
      "[125 7 59 72 147 25 96 9 30 68 26 146 7 100 14 180 54 15 103 5 64 152 117\n",
      " 151 121 0 117 29 180 37 22 35 31 35 16 45 154 2 23 180 99 152 180 117 180\n",
      " 152 41 34 17 119 17 101 16 117 91 102 180 180 137 180 116 81 24 120 32\n",
      " 180 33 146 83 104]\n"
     ]
    }
   ],
   "source": [
    "print(data_live_month)\n",
    "categorized_data_live_month_18 = []\n",
    "categorized_data_live_month_36 = []\n",
    "categorized_data_live_month_54 = []\n",
    "categorized_data_live_month_72 = []\n",
    "categorized_data_live_month_90 = []\n",
    "categorized_data_live_month_108 = []\n",
    "\n",
    "for num in data_live_month:\n",
    "    if num >= 0 and num <= 18:\n",
    "        categorized_data_live_month_18.append(0)\n",
    "    else:\n",
    "        categorized_data_live_month_18.append(1)\n",
    "\n",
    "for num in data_live_month:\n",
    "    if num >= 0 and num <= 36:\n",
    "        categorized_data_live_month_36.append(0)\n",
    "    else:\n",
    "        categorized_data_live_month_36.append(1)\n",
    "\n",
    "for num in data_live_month:\n",
    "    if num >= 0 and num <= 54:\n",
    "        categorized_data_live_month_54.append(0)\n",
    "    else:\n",
    "        categorized_data_live_month_54.append(1)\n",
    "\n",
    "for num in data_live_month:\n",
    "    if num >= 0 and num <= 72:\n",
    "        categorized_data_live_month_72.append(0)\n",
    "    else:\n",
    "        categorized_data_live_month_72.append(1)\n",
    "\n",
    "\n",
    "for num in data_live_month:\n",
    "    if num >= 0 and num <= 90:\n",
    "        categorized_data_live_month_90.append(0)\n",
    "    else:\n",
    "        categorized_data_live_month_90.append(1)\n",
    "\n",
    "\n",
    "for num in data_live_month:\n",
    "    if num >= 0 and num <= 108:\n",
    "        categorized_data_live_month_108.append(0)\n",
    "    else:\n",
    "        categorized_data_live_month_108.append(1)\n",
    "\n",
    "\n",
    "\n",
    "pd.DataFrame(categorized_data_live_month_18, columns=['live_month']).to_csv(f\"{df_path}/data_live_month_18.csv\", index=False)\n",
    "pd.DataFrame(categorized_data_live_month_36, columns=['live_month']).to_csv(f\"{df_path}/data_live_month_36.csv\", index=False)\n",
    "pd.DataFrame(categorized_data_live_month_54, columns=['live_month']).to_csv(f\"{df_path}/data_live_month_54.csv\", index=False)\n",
    "pd.DataFrame(categorized_data_live_month_72, columns=['live_month']).to_csv(f\"{df_path}/data_live_month_72.csv\", index=False)\n",
    "pd.DataFrame(categorized_data_live_month_90, columns=['live_month']).to_csv(f\"{df_path}/data_live_month_90.csv\", index=False)\n",
    "pd.DataFrame(categorized_data_live_month_108, columns=['live_month']).to_csv(f\"{df_path}/data_live_month_108.csv\", index=False)"
   ]
  },
  {
   "cell_type": "markdown",
   "id": "78faf1c2",
   "metadata": {},
   "source": [
    "### Baseline Approach"
   ]
  },
  {
   "cell_type": "code",
   "execution_count": 5,
   "id": "8ac6c96e",
   "metadata": {},
   "outputs": [
    {
     "name": "stdout",
     "output_type": "stream",
     "text": [
      "\n",
      "[1 1 1 1 1 1 1 1 1 1 1 1 1 1 1 1 1 1 1 1 1 1 1 1 1 1 1 1 1 1 1 1 1 1 1 1 1\n",
      " 1 1 1 1 1 1 1 1 1 1 1 1 1 1 1 1 1 1 1 1 1 1 1 1 1 1 1 1 1 1 1 1 1 0 0 0 0\n",
      " 0 0 0 0 0 0 0 0 0 0 0 0 0 0 0 0 0 0 0 0 0 0 0 0 0 0 0 0 0 0 0 0 0 0 0 0 0\n",
      " 0 0 0 0 0 0 0 0 0 0 0 0 0 0 0 0 0 0 0 0 0 0 0 0 0 0 0 0 0]\n"
     ]
    }
   ],
   "source": [
    "# baseline_data = data[['mdm2', 'GAL3', 'TIM1', 'p16540', 'p16580']]    \n",
    "baseline_data = data[['IDO-1', 'p16540', 'p16580', 'FOXP3', 'ICAM-1', 'GALECTİN-3', 'CD27', 'PD1/pdcd1PDL1/cd274', 'PDL1', 'CD40', 'TIM1','CTLA-4', 'MDM2']]\n",
    "one_hot_baseline = pd.get_dummies(baseline_data)\n",
    "print()\n",
    "one_hot_baseline.to_csv(f\"{df_path}/baseline_approach.csv\", index=False)\n",
    "print(targets)\n",
    "pd.DataFrame(targets, columns=['target']).to_csv(f\"{df_path}/targets.csv\", index=False)"
   ]
  },
  {
   "cell_type": "markdown",
   "id": "c8446ab9",
   "metadata": {},
   "source": [
    "### One-Hot Encoding (on categorical data) -> Data Imputation"
   ]
  },
  {
   "cell_type": "code",
   "execution_count": 6,
   "id": "39aa89fb",
   "metadata": {
    "scrolled": false
   },
   "outputs": [
    {
     "name": "stdout",
     "output_type": "stream",
     "text": [
      "   IDO-1 p16540 p16580 FOXP3 ICAM-1 GALECTİN-3 CD28 GALECTİN-3.1 CD27   \n",
      "3     CC     CC     CC    CC     AG         AC   TT           CA   TT  \\\n",
      "4     CC     CC     CC    CC     AG         CC   TT           AA   AA   \n",
      "5    NaN     CG     CC    AA     AG         AA   TT           CC   AA   \n",
      "6     CC    NaN    NaN    AA     AG         AC   CT           CC   AA   \n",
      "7    NaN     CC     CC   NaN     AG        NaN   TT          NaN   AT   \n",
      "..   ...    ...    ...   ...    ...        ...  ...          ...  ...   \n",
      "68   NaN     CG     CC    CC     GG         CC   CC          NaN   AA   \n",
      "69   NaN     CG     CC    CC     AA         AA   TT           CC   TT   \n",
      "70   NaN     CG     CT    CC     GG         AC   TT          NaN   AT   \n",
      "71    GC     CC     CC    CA    NaN         CC  NaN           AA   AA   \n",
      "72    GG    NaN    NaN    CA    NaN         AC   TT           CA   AT   \n",
      "\n",
      "   PD1/pdcd1PDL1/cd274 PDL1 CD40 TIM1 CTLA-4 MDM2  \n",
      "3                   CT   AA   CC   CC     AA   TT  \n",
      "4                   CC   AC   CC   GC     AA   TG  \n",
      "5                   CT   AC   CC   CC     AA   TG  \n",
      "6                   CT   AC   CT   GC     AA  NaN  \n",
      "7                   CT   AC   CT   CC     AG   TG  \n",
      "..                 ...  ...  ...  ...    ...  ...  \n",
      "68                  CT   AC   CT   CC    NaN   TG  \n",
      "69                  CC   AC   CT   GC    NaN   TT  \n",
      "70                  CC   AA   CC   CC    NaN   TG  \n",
      "71                 NaN  NaN   CT   CC    NaN   GG  \n",
      "72                 NaN   AC   CT   CC     AA  NaN  \n",
      "\n",
      "[140 rows x 15 columns]\n",
      "    IDO-1_CC  IDO-1_GC  IDO-1_GG  p16540_CC  p16540_CG  p16540_GG  p16580_CC   \n",
      "3       True     False     False       True      False      False       True  \\\n",
      "4       True     False     False       True      False      False       True   \n",
      "5      False     False     False      False       True      False       True   \n",
      "6       True     False     False      False      False      False      False   \n",
      "7      False     False     False       True      False      False       True   \n",
      "..       ...       ...       ...        ...        ...        ...        ...   \n",
      "68     False     False     False      False       True      False       True   \n",
      "69     False     False     False      False       True      False       True   \n",
      "70     False     False     False      False       True      False      False   \n",
      "71     False      True     False       True      False      False       True   \n",
      "72     False     False      True      False      False      False      False   \n",
      "\n",
      "    p16580_CT  p16580_TT  FOXP3_AA  ...  CD40_TT  TIM1_CC  TIM1_GC  TIM1_GG   \n",
      "3       False      False     False  ...    False     True    False    False  \\\n",
      "4       False      False     False  ...    False    False     True    False   \n",
      "5       False      False      True  ...    False     True    False    False   \n",
      "6       False      False      True  ...    False    False     True    False   \n",
      "7       False      False     False  ...    False     True    False    False   \n",
      "..        ...        ...       ...  ...      ...      ...      ...      ...   \n",
      "68      False      False     False  ...    False     True    False    False   \n",
      "69      False      False     False  ...    False    False     True    False   \n",
      "70       True      False     False  ...    False     True    False    False   \n",
      "71      False      False     False  ...    False     True    False    False   \n",
      "72      False      False     False  ...    False     True    False    False   \n",
      "\n",
      "    CTLA-4_AA  CTLA-4_AG  CTLA-4_GG  MDM2_GG  MDM2_TG  MDM2_TT  \n",
      "3        True      False      False    False    False     True  \n",
      "4        True      False      False    False     True    False  \n",
      "5        True      False      False    False     True    False  \n",
      "6        True      False      False    False    False    False  \n",
      "7       False       True      False    False     True    False  \n",
      "..        ...        ...        ...      ...      ...      ...  \n",
      "68      False      False      False    False     True    False  \n",
      "69      False      False      False    False    False     True  \n",
      "70      False      False      False    False     True    False  \n",
      "71      False      False      False     True    False    False  \n",
      "72       True      False      False    False    False    False  \n",
      "\n",
      "[140 rows x 45 columns]\n"
     ]
    }
   ],
   "source": [
    "# ohe = pd.get_dummies(data.iloc[:,3:13][2:117])\n",
    "ohe = pd.get_dummies(data)\n",
    "print(data)\n",
    "print(ohe)\n",
    "for clm in columns:\n",
    "    ohe.loc[data[clm].isnull(), ohe.columns.str.startswith(\"{}_\".format(clm))] = np.nan"
   ]
  },
  {
   "cell_type": "code",
   "execution_count": 7,
   "id": "96929684",
   "metadata": {},
   "outputs": [
    {
     "name": "stdout",
     "output_type": "stream",
     "text": [
      "[[ 1.  0.  0. ...  0.  0.  1.]\n",
      " [ 1.  0.  0. ...  0.  1.  0.]\n",
      " [nan nan nan ...  0.  1.  0.]\n",
      " ...\n",
      " [nan nan nan ...  0.  1.  0.]\n",
      " [ 0.  1.  0. ...  1.  0.  0.]\n",
      " [ 0.  0.  1. ... nan nan nan]]\n"
     ]
    }
   ],
   "source": [
    "# ohe['age'].fillna(0.0)\n",
    "ohe = ohe.astype(float)\n",
    "df = pd.DataFrame(ohe, columns =['age'])\n",
    "  \n",
    "# Apply the function\n",
    "# ohe['age'] = df['age'].fillna(0)\n",
    "  \n",
    "print((ohe.values))\n",
    "ohe_di = fast_knn(ohe.values, k=30)\n",
    "ohe_di_df = pd.DataFrame(ohe_di, columns=ohe.columns)\n",
    "ohe_di_df.to_csv(f\"{df_path}/ohe_di.csv\", index=False)"
   ]
  },
  {
   "cell_type": "markdown",
   "id": "a2501bc4",
   "metadata": {},
   "source": [
    "### One-Hot Encoding (on categorical data) -> Data Imputation -> Float to Int"
   ]
  },
  {
   "cell_type": "code",
   "execution_count": 8,
   "id": "cf6accfc",
   "metadata": {
    "scrolled": true
   },
   "outputs": [],
   "source": [
    "sys.setrecursionlimit(100000) #Increase the recursion limit of the OS\n",
    "# K-nn implementation gives us float values and we convert it to nearest integer\n",
    "ohe_di_fi = np.round(ohe_di).astype('int')\n",
    "\n",
    "ohe_di_fi_df = pd.DataFrame(ohe_di_fi, columns=ohe.columns)\n",
    "ohe_di_fi_df.to_csv(f\"{df_path}/ohe_di_fi.csv\", index=False)"
   ]
  },
  {
   "cell_type": "markdown",
   "id": "cc2091d9",
   "metadata": {},
   "source": [
    "### Custom Data Transformation (CDT) -> Data Imputation"
   ]
  },
  {
   "cell_type": "code",
   "execution_count": 9,
   "id": "d5bfe491",
   "metadata": {
    "scrolled": true
   },
   "outputs": [
    {
     "name": "stdout",
     "output_type": "stream",
     "text": [
      "Index(['IDO-1', 'p16540', 'p16580', 'FOXP3', 'ICAM-1', 'GALECTİN-3', 'CD28',\n",
      "       'GALECTİN-3.1', 'CD27', 'PD1/pdcd1PDL1/cd274', 'PDL1', 'CD40', 'TIM1',\n",
      "       'CTLA-4', 'MDM2'],\n",
      "      dtype='object')\n",
      "[[10. 10. 10. ... 10.  0.  5.]\n",
      " [10. 10. 10. ... 14.  0. nan]\n",
      " [nan nan 10. ... 10.  0. nan]\n",
      " ...\n",
      " [nan nan  9. ... 10. nan nan]\n",
      " [14. 10. 10. ... 10. nan 15.]\n",
      " [15. nan nan ... 10.  0. nan]]\n"
     ]
    }
   ],
   "source": [
    "cdt = pd.DataFrame(features)\n",
    "print(columns)\n",
    "cdt.columns = columns\n",
    "# print(cdt.columns, cdt['p16580'], decimal_forms)\n",
    "\n",
    "for col in cdt.columns:\n",
    "    cdt[col] = cdt[col].map(decimal_forms)\n",
    "\n",
    "print(cdt.values)\n"
   ]
  },
  {
   "cell_type": "code",
   "execution_count": 10,
   "id": "e28fd81b",
   "metadata": {},
   "outputs": [
    {
     "name": "stdout",
     "output_type": "stream",
     "text": [
      "     IDO-1  p16540  p16580  FOXP3  ICAM-1  GALECTİN-3  CD28  GALECTİN-3.1   \n",
      "0     10.0    10.0    10.0   10.0     NaN         2.0   5.0           8.0  \\\n",
      "1     10.0    10.0    10.0   10.0     NaN        10.0   5.0           0.0   \n",
      "2      NaN     NaN    10.0    0.0     NaN         0.0   5.0          10.0   \n",
      "3     10.0     NaN     NaN    0.0     NaN         2.0   9.0          10.0   \n",
      "4      NaN    10.0    10.0    NaN     NaN         NaN   5.0           NaN   \n",
      "..     ...     ...     ...    ...     ...         ...   ...           ...   \n",
      "135    NaN     NaN    10.0   10.0    15.0        10.0  10.0           NaN   \n",
      "136    NaN     NaN    10.0   10.0     0.0         0.0   5.0          10.0   \n",
      "137    NaN     NaN     9.0   10.0    15.0         2.0   5.0           NaN   \n",
      "138   14.0    10.0    10.0    8.0     NaN        10.0   NaN           0.0   \n",
      "139   15.0     NaN     NaN    8.0     NaN         2.0   5.0           8.0   \n",
      "\n",
      "     CD27  PD1/pdcd1PDL1/cd274  PDL1  CD40  TIM1  CTLA-4  MDM2  \n",
      "0     5.0                  9.0   0.0  10.0  10.0     0.0   5.0  \n",
      "1     0.0                 10.0   2.0  10.0  14.0     0.0   NaN  \n",
      "2     0.0                  9.0   2.0  10.0  10.0     0.0   NaN  \n",
      "3     0.0                  9.0   2.0   9.0  14.0     0.0   NaN  \n",
      "4     1.0                  9.0   2.0   9.0  10.0     NaN   NaN  \n",
      "..    ...                  ...   ...   ...   ...     ...   ...  \n",
      "135   0.0                  9.0   2.0   9.0  10.0     NaN   NaN  \n",
      "136   5.0                 10.0   2.0   9.0  14.0     NaN   5.0  \n",
      "137   1.0                 10.0   0.0  10.0  10.0     NaN   NaN  \n",
      "138   0.0                  NaN   NaN   9.0  10.0     NaN  15.0  \n",
      "139   1.0                  NaN   2.0   9.0  10.0     0.0   NaN  \n",
      "\n",
      "[140 rows x 15 columns]\n"
     ]
    }
   ],
   "source": [
    "sys.setrecursionlimit(100000) #Increase the recursion limit of the OS\n",
    "\n",
    "print(cdt)\n",
    "\n",
    "cdt_di = fast_knn(cdt.values, k=30)\n",
    "\n",
    "cdt_di_df = pd.DataFrame(cdt_di, columns=columns)\n",
    "cdt_di_df.to_csv(f\"{df_path}/cdt_di.csv\", index=False)"
   ]
  },
  {
   "cell_type": "markdown",
   "id": "16730e58",
   "metadata": {},
   "source": [
    "### Custom Data Transformation -> Data Imputation -> Float to Int"
   ]
  },
  {
   "cell_type": "code",
   "execution_count": 11,
   "id": "c43d1727",
   "metadata": {},
   "outputs": [],
   "source": [
    "cdt_di_fi = np.round(cdt_di).astype('int')\n",
    "cdt_di_fi_df = pd.DataFrame(cdt_di_fi, columns=columns)\n",
    "cdt_di_fi_df.to_csv(f\"{df_path}/cdt_di_fi.csv\", index=False)"
   ]
  },
  {
   "cell_type": "markdown",
   "id": "944dc2bb",
   "metadata": {},
   "source": [
    "### Custom Data Transformation -> Data Imputation -> One Hot Encoding"
   ]
  },
  {
   "cell_type": "code",
   "execution_count": 12,
   "id": "ee857c5e",
   "metadata": {},
   "outputs": [],
   "source": [
    "cdt_di_ohe_df = pd.get_dummies(cdt_di_df, sparse=True, columns=columns)\n",
    "cdt_di_ohe_df.to_csv(f\"{df_path}/cdt_di_ohe.csv\", index=False)"
   ]
  },
  {
   "cell_type": "markdown",
   "id": "99a10d28",
   "metadata": {},
   "source": [
    "### Custom Data Transformation (CDT) -> Data Imputation -> Float to Int -> One-Hot Encoding"
   ]
  },
  {
   "cell_type": "code",
   "execution_count": 15,
   "id": "9c0c7c28",
   "metadata": {
    "scrolled": true
   },
   "outputs": [
    {
     "name": "stdout",
     "output_type": "stream",
     "text": [
      "Index(['IDO-1', 'p16540', 'p16580', 'FOXP3', 'ICAM-1', 'GALECTİN-3', 'CD28',\n",
      "       'GALECTİN-3.1', 'CD27', 'PD1/pdcd1PDL1/cd274', 'PDL1', 'CD40', 'TIM1',\n",
      "       'CTLA-4', 'MDM2'],\n",
      "      dtype='object')\n",
      "Index(['IDO-1_10', 'IDO-1_14', 'IDO-1_15', 'p16540_10', 'p16540_11',\n",
      "       'p16540_15', 'p16580_10', 'p16580_5', 'p16580_9', 'FOXP3_0', 'FOXP3_10',\n",
      "       'FOXP3_7', 'FOXP3_8', 'ICAM-1_0', 'ICAM-1_15', 'ICAM-1_5', 'ICAM-1_6',\n",
      "       'GALECTİN-3_0', 'GALECTİN-3_10', 'GALECTİN-3_2', 'GALECTİN-3_4',\n",
      "       'GALECTİN-3_5', 'CD28_10', 'CD28_5', 'CD28_6', 'CD28_7', 'CD28_9',\n",
      "       'GALECTİN-3.1_0', 'GALECTİN-3.1_10', 'GALECTİN-3.1_2', 'GALECTİN-3.1_3',\n",
      "       'GALECTİN-3.1_4', 'GALECTİN-3.1_5', 'GALECTİN-3.1_6', 'GALECTİN-3.1_7',\n",
      "       'GALECTİN-3.1_8', 'CD27_0', 'CD27_1', 'CD27_5',\n",
      "       'PD1/pdcd1PDL1/cd274_10', 'PD1/pdcd1PDL1/cd274_5',\n",
      "       'PD1/pdcd1PDL1/cd274_8', 'PD1/pdcd1PDL1/cd274_9', 'PDL1_0', 'PDL1_1',\n",
      "       'PDL1_10', 'PDL1_2', 'CD40_10', 'CD40_5', 'CD40_9', 'TIM1_10',\n",
      "       'TIM1_12', 'TIM1_13', 'TIM1_14', 'TIM1_15', 'CTLA-4_0', 'CTLA-4_1',\n",
      "       'CTLA-4_15', 'MDM2_15', 'MDM2_5', 'MDM2_7', 'MDM2_8'],\n",
      "      dtype='object')\n"
     ]
    }
   ],
   "source": [
    "cdt_di_fi_ohe_df = pd.get_dummies(cdt_di_fi_df.astype('str'), sparse=True, columns=columns)\n",
    "\n",
    "cdt_di_fi_ohe_df.to_csv(f\"{df_path}/cdt_di_fi_ohe.csv\", index=False)"
   ]
  },
  {
   "cell_type": "markdown",
   "id": "d8a6c72e",
   "metadata": {},
   "source": [
    "# Sources:\n",
    "\n",
    "- https://towardsdatascience.com/the-use-of-knn-for-missing-values-cf33d935c637"
   ]
  }
 ],
 "metadata": {
  "kernelspec": {
   "display_name": "Python 3.11.1 64-bit",
   "language": "python",
   "name": "python3"
  },
  "language_info": {
   "codemirror_mode": {
    "name": "ipython",
    "version": 3
   },
   "file_extension": ".py",
   "mimetype": "text/x-python",
   "name": "python",
   "nbconvert_exporter": "python",
   "pygments_lexer": "ipython3",
   "version": "3.11.1"
  },
  "vscode": {
   "interpreter": {
    "hash": "aee8b7b246df8f9039afb4144a1f6fd8d2ca17a180786b69acc140d282b71a49"
   }
  }
 },
 "nbformat": 4,
 "nbformat_minor": 5
}
